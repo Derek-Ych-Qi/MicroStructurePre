{
 "cells": [
  {
   "cell_type": "markdown",
   "metadata": {},
   "source": [
    "## A Closed-Form Execution Strategy to Target Volume Weighted Average Price\n",
    "\n",
    "Author: Alvaro Cartea and Sebastian Jaimungal  \n",
    "Yuchen Qi and Sheng Lin\n",
    "\n",
    "<h3><img src=\"http://mfe.baruch.cuny.edu/wp-content/uploads/2016/04/MFE-Logo.jpg\" align = \"right\" width=500></h3>"
   ]
  },
  {
   "cell_type": "markdown",
   "metadata": {},
   "source": [
    "### Trading strategy theoretical framework\n",
    "- Agent is liquidating or acquiring certain amount of shares $(X)$\n",
    "- Agent seeks max expected total wealth, with 2 penalty terms\n",
    "    - remaining invetories is penalized over a liquidation parameter (like terminal liquidation cost)\n",
    "    - difference with target (VWAP or POV) in trading rate is penalized over a running parameter\n",
    "  \n",
    "- Market model\n",
    "    - Orders are devided into the following parts:\n",
    "        * other people's instantaneous buy order rate $\\mu_t^+$\n",
    "        * other people's instantaneous sell order rate $\\mu_t^-$\n",
    "        * All the $\\mu$s are pre-determined stochastic processes for simplisity(e.g. O-U process with Poisson jump as stochastic drivers)\n",
    "        * agent's own order rate $v_t$\n",
    "        \n",
    "    - Market orders have temporary impact by walking into LOB, and have permanent impact by releasing new information"
   ]
  },
  {
   "cell_type": "markdown",
   "metadata": {},
   "source": [
    "### Closed form solution and its meaning\n",
    "#### Targeting POV with penalties on terminal inventory and deviation\n",
    "Parameters:\n",
    "- $Q_t$: inventory left at time t\n",
    "- $b$: permanent effect\n",
    "- $k$: temporary effect\n",
    "- $\\phi$: penalty on deviation\n",
    "- $\\alpha$: penalty on terminal liquidation\n",
    "- $\\zeta = \\frac{k + \\phi}{\\alpha - b/2}$\n",
    "\\begin{align}\n",
    "    v_t^* &= \\frac{1}{(T-t) + \\zeta} Q_t^{v^*} \\\\\n",
    "    &+ \\frac{\\phi}{k + \\phi} \\rho \\left[ (\\mu_t^+ + \\mu_t^-) - \\frac{1}{(T-t)+\\zeta}\\int_t^T\\mathbb E[(\\mu_s^+ + \\mu_s^-)|\\mathcal{F}_t^\\mu]ds \\right] \\\\\n",
    "    &- \\frac{b}{k + \\phi} \\int_t^T \\frac{(T-s) + \\zeta}{(T-t) + \\zeta} \\mathbb E[(\\mu_s^+ + \\mu_s^-)|\\mathcal{F}_t^\\mu]ds\n",
    "\\end{align}\n",
    "\n",
    "- First term looks like TWAP\n",
    "- Second term is related with current trading rates of the rest of the market, and expected future trading rates.\n",
    "- Third term is adjustment base on expectation of future, adjust base on the estimated permanent effect\n",
    "\n",
    "\n",
    "#### Targeting VWAP\n",
    "Just make $\\alpha \\to \\infty$ and $\\phi \\to \\infty$ and we choose $\\alpha$ large enough so that $\\zeta \\to 0$\n",
    "\\begin{align}\n",
    "    v_t^* &= \\frac{1}{T-t} Q_t^{v^*} \\\\\n",
    "    &+ \\rho \\left[ (\\mu_t^+ + \\mu_t^-) - \\frac{1}{T-t}\\int_t^T\\mathbb E[(\\mu_s^+ + \\mu_s^-)|\\mathcal{F}_t^\\mu]ds \\right]\n",
    "\\end{align}"
   ]
  },
  {
   "cell_type": "markdown",
   "metadata": {},
   "source": [
    "### Numerical experiment result\n",
    "<h3><img src=\"http://mfe.baruch.cuny.edu/wp-content/uploads/2016/04/MFE-Logo.jpg\" align = \"right\" width=500></h3>"
   ]
  },
  {
   "cell_type": "markdown",
   "metadata": {},
   "source": [
    "### Conclusion\n",
    "- Close form trading strategy targeting VWAP\n",
    "- Use assumptions on process of instantaneous trading rate of the rest of the market\n",
    "- Numerically reasonably good\n",
    "\n",
    "Cartea, Álvaro, and Sebastian Jaimungal. \"A closed-form execution strategy to target volume weighted average price.\" SIAM Journal on Financial Mathematics 7.1 (2016): 760-785."
   ]
  }
 ],
 "metadata": {
  "anaconda-cloud": {},
  "kernelspec": {
   "display_name": "R",
   "language": "R",
   "name": "ir"
  },
  "language_info": {
   "codemirror_mode": "r",
   "file_extension": ".r",
   "mimetype": "text/x-r-source",
   "name": "R",
   "pygments_lexer": "r",
   "version": "3.3.2"
  }
 },
 "nbformat": 4,
 "nbformat_minor": 1
}
